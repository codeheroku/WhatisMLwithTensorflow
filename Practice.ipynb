{
  "nbformat": 4,
  "nbformat_minor": 0,
  "metadata": {
    "colab": {
      "name": "Practice.ipynb",
      "version": "0.3.2",
      "provenance": []
    },
    "kernelspec": {
      "name": "python3",
      "display_name": "Python 3"
    }
  },
  "cells": [
    {
      "metadata": {
        "id": "96lwY9OZhzUz",
        "colab_type": "text"
      },
      "cell_type": "markdown",
      "source": [
        "#Traditional Programming"
      ]
    },
    {
      "metadata": {
        "id": "E7Kr05GFhw0M",
        "colab_type": "text"
      },
      "cell_type": "markdown",
      "source": [
        "---\n",
        "\n",
        "> > > > > >  **Equation --> y = 2.5 * x + 3**\n",
        "\n",
        "|    x    |   -10   |   -5     |    2    |  100  |    50     |    1000   | \n",
        "|---------|----------|-----------|---------|--------- |------------|--------------|\n",
        "|    y    |   -22   |  -9.5   |    8    |  253  |  126.5  |   2530   |\n",
        "\n",
        "---"
      ]
    },
    {
      "metadata": {
        "id": "dNvDTTwmh_Dn",
        "colab_type": "code",
        "colab": {}
      },
      "cell_type": "code",
      "source": [
        "x = "
      ],
      "execution_count": 0,
      "outputs": []
    },
    {
      "metadata": {
        "id": "KngjDWEve7ZP",
        "colab_type": "code",
        "colab": {}
      },
      "cell_type": "code",
      "source": [
        "y = "
      ],
      "execution_count": 0,
      "outputs": []
    },
    {
      "metadata": {
        "id": "_aENJKIpiL79",
        "colab_type": "code",
        "colab": {
          "base_uri": "https://localhost:8080/",
          "height": 35
        },
        "outputId": "a38b2239-8d01-4f4b-a653-b4eef9a707b4"
      },
      "cell_type": "code",
      "source": [
        "print(\"x = {} , y = {}\".format(x, y))"
      ],
      "execution_count": 7,
      "outputs": [
        {
          "output_type": "stream",
          "text": [
            "x = -10 , y = -22.0\n"
          ],
          "name": "stdout"
        }
      ]
    },
    {
      "metadata": {
        "id": "RTOb9OI7iWBa",
        "colab_type": "text"
      },
      "cell_type": "markdown",
      "source": [
        "# Machine Learning with Tensorflow"
      ]
    },
    {
      "metadata": {
        "id": "aM06IeJHhpTe",
        "colab_type": "text"
      },
      "cell_type": "markdown",
      "source": [
        "---\n",
        "\n",
        "> > > > > >  **Equation --> y = 2.5 * x + 3**\n",
        "\n",
        "|    x    |   -10   |   -5     |    2    |  100  |    50     |    1000   | \n",
        "|---------|----------|-----------|---------|--------- |------------|--------------|\n",
        "|    y    |   -22   |  -9.5   |    8    |  253  |  126.5  |   2530   |\n",
        "\n",
        "\n",
        "---"
      ]
    },
    {
      "metadata": {
        "id": "QOyGKKyDe-Dg",
        "colab_type": "text"
      },
      "cell_type": "markdown",
      "source": [
        "  <center>\n",
        "  \n",
        "  <img src=\"https://3qeqpr26caki16dnhd19sv6by6v-wpengine.netdna-ssl.com/wp-content/uploads/2016/07/5-Step-Life-Cycle-for-Neural-Network-Models-in-Keras.png\" width=\"150px\" />\n",
        "\n",
        "</center>"
      ]
    },
    {
      "metadata": {
        "id": "vGSGXOHkfAXD",
        "colab_type": "code",
        "colab": {}
      },
      "cell_type": "code",
      "source": [
        "import \n",
        "import \n",
        "tf.logging.set_verbosity(tf.logging.ERROR)"
      ],
      "execution_count": 0,
      "outputs": []
    },
    {
      "metadata": {
        "id": "v8fa7wy3iq8q",
        "colab_type": "code",
        "colab": {}
      },
      "cell_type": "code",
      "source": [
        "[-10, -5, 2, 100]\n",
        "[-22, -9.5, 8, 253]"
      ],
      "execution_count": 0,
      "outputs": []
    },
    {
      "metadata": {
        "id": "gY9mxB-Ti2Wn",
        "colab_type": "code",
        "colab": {}
      },
      "cell_type": "code",
      "source": [
        "print(\"x = {}, y={}\")"
      ],
      "execution_count": 0,
      "outputs": []
    },
    {
      "metadata": {
        "id": "vzxpnShCjDQR",
        "colab_type": "code",
        "colab": {}
      },
      "cell_type": "code",
      "source": [
        "layer = tf.keras.layers.Dense(units=, input_shape=[])"
      ],
      "execution_count": 0,
      "outputs": []
    },
    {
      "metadata": {
        "id": "V8IiwyH4jWu2",
        "colab_type": "text"
      },
      "cell_type": "markdown",
      "source": [
        "###Define the Model"
      ]
    },
    {
      "metadata": {
        "id": "ivo9X-TfjUbA",
        "colab_type": "code",
        "colab": {}
      },
      "cell_type": "code",
      "source": [
        "model = tf.keras.Sequential([])"
      ],
      "execution_count": 0,
      "outputs": []
    },
    {
      "metadata": {
        "id": "4x6dJs8YjxlN",
        "colab_type": "text"
      },
      "cell_type": "markdown",
      "source": [
        "###Compile the Model"
      ]
    },
    {
      "metadata": {
        "id": "Sg4sHtNYjYaM",
        "colab_type": "code",
        "colab": {}
      },
      "cell_type": "code",
      "source": [
        "model.compile(loss='', optimizer=tf.keras.optimizers.Adam())"
      ],
      "execution_count": 0,
      "outputs": []
    },
    {
      "metadata": {
        "id": "9MVNCGI6kEnM",
        "colab_type": "text"
      },
      "cell_type": "markdown",
      "source": [
        "###Train the Model (Fit Network)"
      ]
    },
    {
      "metadata": {
        "id": "XnC5KCPejq2r",
        "colab_type": "code",
        "colab": {}
      },
      "cell_type": "code",
      "source": [
        "train = model.fit(, ,epochs=, verbose=False)"
      ],
      "execution_count": 0,
      "outputs": []
    },
    {
      "metadata": {
        "id": "j9VK9zYpkkFI",
        "colab_type": "text"
      },
      "cell_type": "markdown",
      "source": [
        "###Evaluate the Model"
      ]
    },
    {
      "metadata": {
        "id": "jkSXImRijrCy",
        "colab_type": "code",
        "colab": {}
      },
      "cell_type": "code",
      "source": [
        "import matplotlib.pyplot as plt\n",
        "plt.plot()"
      ],
      "execution_count": 0,
      "outputs": []
    },
    {
      "metadata": {
        "id": "94kqW73ukyk9",
        "colab_type": "text"
      },
      "cell_type": "markdown",
      "source": [
        "###Test the Model(Make Predictions)"
      ]
    },
    {
      "metadata": {
        "id": "hlAqqr1wk3_z",
        "colab_type": "code",
        "colab": {}
      },
      "cell_type": "code",
      "source": [
        "model.predict([])"
      ],
      "execution_count": 0,
      "outputs": []
    },
    {
      "metadata": {
        "id": "MW6Pt7rzk_eh",
        "colab_type": "code",
        "colab": {}
      },
      "cell_type": "code",
      "source": [
        "layer.get_weights()"
      ],
      "execution_count": 0,
      "outputs": []
    }
  ]
}