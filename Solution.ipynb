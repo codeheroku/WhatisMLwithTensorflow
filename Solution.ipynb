{
  "nbformat": 4,
  "nbformat_minor": 0,
  "metadata": {
    "colab": {
      "name": "Solution.ipynb",
      "version": "0.3.2",
      "provenance": [],
      "collapsed_sections": []
    },
    "kernelspec": {
      "name": "python3",
      "display_name": "Python 3"
    },
    "accelerator": "GPU"
  },
  "cells": [
    {
      "metadata": {
        "id": "96lwY9OZhzUz",
        "colab_type": "text"
      },
      "cell_type": "markdown",
      "source": [
        "#Traditional Programming"
      ]
    },
    {
      "metadata": {
        "id": "E7Kr05GFhw0M",
        "colab_type": "text"
      },
      "cell_type": "markdown",
      "source": [
        "---\n",
        "\n",
        "> > > > > >  **Equation --> y = 2.5 * x + 3**\n",
        "\n",
        "|    x    |   -10   |   -5     |    2    |  100  |    50     |    1000   | \n",
        "|---------|----------|-----------|---------|--------- |------------|--------------|\n",
        "|    y    |   -22   |  -9.5   |    8    |  253  |  126.5  |   2530   |\n",
        "\n",
        "---"
      ]
    },
    {
      "metadata": {
        "id": "dNvDTTwmh_Dn",
        "colab_type": "code",
        "colab": {}
      },
      "cell_type": "code",
      "source": [
        "x = -10"
      ],
      "execution_count": 0,
      "outputs": []
    },
    {
      "metadata": {
        "id": "KngjDWEve7ZP",
        "colab_type": "code",
        "colab": {}
      },
      "cell_type": "code",
      "source": [
        "y = 2.5 * x + 3"
      ],
      "execution_count": 0,
      "outputs": []
    },
    {
      "metadata": {
        "id": "T5Khl1JUQ1wI",
        "colab_type": "code",
        "colab": {}
      },
      "cell_type": "code",
      "source": [
        "print(\"x = {} , y = {}\".format(x, y))"
      ],
      "execution_count": 0,
      "outputs": []
    },
    {
      "metadata": {
        "id": "RTOb9OI7iWBa",
        "colab_type": "text"
      },
      "cell_type": "markdown",
      "source": [
        "# Machine Learning with Tensorflow"
      ]
    },
    {
      "metadata": {
        "id": "aM06IeJHhpTe",
        "colab_type": "text"
      },
      "cell_type": "markdown",
      "source": [
        "---\n",
        "\n",
        "> > > > > >  **Equation --> y = 2.5 * x + 3**\n",
        "\n",
        "|    x    |   -10   |   -5     |    2    |  100  |    50     |    1000   | \n",
        "|---------|----------|-----------|---------|--------- |------------|--------------|\n",
        "|    y    |   -22   |  -9.5   |    8    |  253  |  126.5  |   2530   |\n",
        "\n",
        "\n",
        "---"
      ]
    },
    {
      "metadata": {
        "id": "QOyGKKyDe-Dg",
        "colab_type": "text"
      },
      "cell_type": "markdown",
      "source": [
        "  <center>\n",
        "  \n",
        "  <img src=\"https://3qeqpr26caki16dnhd19sv6by6v-wpengine.netdna-ssl.com/wp-content/uploads/2016/07/5-Step-Life-Cycle-for-Neural-Network-Models-in-Keras.png\" width=\"150px\" />\n",
        "\n",
        "</center>"
      ]
    },
    {
      "metadata": {
        "id": "vGSGXOHkfAXD",
        "colab_type": "code",
        "colab": {}
      },
      "cell_type": "code",
      "source": [
        "import \n",
        "import \n",
        "tf.logging.set_verbosity(tf.logging.ERROR)"
      ],
      "execution_count": 0,
      "outputs": []
    },
    {
      "metadata": {
        "id": "v8fa7wy3iq8q",
        "colab_type": "code",
        "colab": {}
      },
      "cell_type": "code",
      "source": [
        "x = np.array([-10, -5, 2, 100], dtype=float)\n",
        "y = np.array([-22, -9.5, 8, 253], dtype=float)"
      ],
      "execution_count": 0,
      "outputs": []
    },
    {
      "metadata": {
        "id": "Vkj8UoDgfOvX",
        "colab_type": "code",
        "colab": {}
      },
      "cell_type": "code",
      "source": [
        "print(\"x = {}, y={}\".format(x, y))"
      ],
      "execution_count": 0,
      "outputs": []
    },
    {
      "metadata": {
        "id": "Z_FcZSKE5I_i",
        "colab_type": "text"
      },
      "cell_type": "markdown",
      "source": [
        "<center>\n",
        "\n",
        "<img src=\"https://upload.wikimedia.org/wikipedia/commons/thumb/9/99/Neural_network_example.svg/220px-Neural_network_example.svg.png\"/>\n",
        "\n",
        "</center>"
      ]
    },
    {
      "metadata": {
        "id": "vzxpnShCjDQR",
        "colab_type": "code",
        "colab": {}
      },
      "cell_type": "code",
      "source": [
        "layer = tf.keras.layers.Dense(units=1, input_shape=[1])"
      ],
      "execution_count": 0,
      "outputs": []
    },
    {
      "metadata": {
        "id": "V8IiwyH4jWu2",
        "colab_type": "text"
      },
      "cell_type": "markdown",
      "source": [
        "###Define the Model"
      ]
    },
    {
      "metadata": {
        "id": "ivo9X-TfjUbA",
        "colab_type": "code",
        "colab": {}
      },
      "cell_type": "code",
      "source": [
        "model = tf.keras.Sequential([layer])"
      ],
      "execution_count": 0,
      "outputs": []
    },
    {
      "metadata": {
        "id": "4x6dJs8YjxlN",
        "colab_type": "text"
      },
      "cell_type": "markdown",
      "source": [
        "###Compile the Model"
      ]
    },
    {
      "metadata": {
        "id": "Sg4sHtNYjYaM",
        "colab_type": "code",
        "colab": {}
      },
      "cell_type": "code",
      "source": [
        "model.compile(loss='mean_squared_error', \n",
        "              optimizer=tf.keras.optimizers.Adam(0.1))"
      ],
      "execution_count": 0,
      "outputs": []
    },
    {
      "metadata": {
        "id": "9MVNCGI6kEnM",
        "colab_type": "text"
      },
      "cell_type": "markdown",
      "source": [
        "###Train the Model (Fit Network)"
      ]
    },
    {
      "metadata": {
        "id": "XnC5KCPejq2r",
        "colab_type": "code",
        "colab": {}
      },
      "cell_type": "code",
      "source": [
        "train = model.fit(x, y,epochs=1000, verbose=False)"
      ],
      "execution_count": 0,
      "outputs": []
    },
    {
      "metadata": {
        "id": "j9VK9zYpkkFI",
        "colab_type": "text"
      },
      "cell_type": "markdown",
      "source": [
        "###Evaluate the Model"
      ]
    },
    {
      "metadata": {
        "id": "jkSXImRijrCy",
        "colab_type": "code",
        "colab": {}
      },
      "cell_type": "code",
      "source": [
        "import matplotlib.pyplot as plt\n",
        "plt.plot(train.history['loss'])"
      ],
      "execution_count": 0,
      "outputs": []
    },
    {
      "metadata": {
        "id": "94kqW73ukyk9",
        "colab_type": "text"
      },
      "cell_type": "markdown",
      "source": [
        "###Test the Model(Make Predictions)"
      ]
    },
    {
      "metadata": {
        "id": "hlAqqr1wk3_z",
        "colab_type": "code",
        "outputId": "4a5e86f8-0bb6-4080-b0e4-38e271244e53",
        "colab": {
          "base_uri": "https://localhost:8080/",
          "height": 35
        }
      },
      "cell_type": "code",
      "source": [
        "model.predict([50])"
      ],
      "execution_count": 0,
      "outputs": [
        {
          "output_type": "execute_result",
          "data": {
            "text/plain": [
              "array([[128.]], dtype=float32)"
            ]
          },
          "metadata": {
            "tags": []
          },
          "execution_count": 32
        }
      ]
    },
    {
      "metadata": {
        "id": "MW6Pt7rzk_eh",
        "colab_type": "code",
        "colab": {}
      },
      "cell_type": "code",
      "source": [
        "layer.get_weights()"
      ],
      "execution_count": 0,
      "outputs": []
    },
    {
      "metadata": {
        "id": "UgTmKrB5d91A",
        "colab_type": "code",
        "colab": {}
      },
      "cell_type": "code",
      "source": [
        ""
      ],
      "execution_count": 0,
      "outputs": []
    }
  ]
}